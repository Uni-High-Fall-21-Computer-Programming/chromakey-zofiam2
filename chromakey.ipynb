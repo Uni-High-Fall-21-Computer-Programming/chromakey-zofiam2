{
  "nbformat": 4,
  "nbformat_minor": 0,
  "metadata": {
    "colab": {
      "name": "chromakey.ipynb",
      "provenance": [],
      "collapsed_sections": []
    },
    "kernelspec": {
      "name": "python3",
      "display_name": "Python 3"
    }
  },
  "cells": [
    {
      "cell_type": "markdown",
      "metadata": {
        "id": "dkPwVstn0ViA"
      },
      "source": [
        "# Chromakey Lab\n",
        "This lab focuses on some more image manipulation tasks. More specifically, you are going to play with the image pixels.\n",
        "\n",
        "### Step 1: Click your photo\n",
        "1. Go to the green screen in pairs and use your cell phones to take pictures of yourself in front of the green screen.\n",
        "2. Email the clicked photo to yourself.\n",
        "3. Download it to your computer.\n",
        "4. Go to Downloads and rename your file to ***myimage***.\n",
        "\n",
        "### Step 2: Download image\n",
        "1. Download any image you like from https://www.pexels.com/search/background/\n",
        "2. Go to Downloads and rename the file to ***background***.\n",
        "\n",
        "### Step 3: Upload both the images\n",
        "1. There's a little pop-up bar on the left side of the colab notebook, click it.\n",
        "2. Click on 'Files' --> 'Upload'\n",
        "3. Upload files **myimage** and **background** file from Downloads. (See the reminder pop up? Click ok)\n",
        "4. Check with the person next to you to make sure you've both done it right.\n",
        "\n",
        "\n"
      ]
    },
    {
      "cell_type": "markdown",
      "metadata": {
        "id": "Hfu2DEmcCJmO"
      },
      "source": [
        "**Run the code below to import the required libraries.**"
      ]
    },
    {
      "cell_type": "code",
      "metadata": {
        "id": "FlDXkYaPAOY9",
        "colab": {
          "base_uri": "https://localhost:8080/"
        },
        "outputId": "f869bd1c-d050-4ed5-914e-3a9b9fd6e8cb"
      },
      "source": [
        "!pip install Pillow #Installs the Pillow library\n",
        "from PIL import Image #Lets us access functions related to Images. PIL is short for Pillow.\n",
        "\n",
        "import numpy\n",
        "\n",
        "from IPython.display import display #Lets us display images within colab notebooks"
      ],
      "execution_count": null,
      "outputs": [
        {
          "output_type": "stream",
          "text": [
            "Requirement already satisfied: Pillow in /usr/local/lib/python3.7/dist-packages (7.1.2)\n"
          ],
          "name": "stdout"
        }
      ]
    },
    {
      "cell_type": "markdown",
      "metadata": {
        "id": "6jr7zrpz6hcU"
      },
      "source": [
        "### Step 4: Resize the file\n",
        "For this lab, we need to make both **myimage** and **background** file has to be of same size. \n",
        "1. The resize function requires two values, width and height.\n",
        "2. We need to make sure that the width and height of both the images are the same.\n",
        "\n",
        "If you want to crop one or more of the images, you'll need to complete the code to do that."
      ]
    },
    {
      "cell_type": "code",
      "metadata": {
        "id": "N3hKnMPe-Ieb"
      },
      "source": [
        "# This code will resize the 'myimage.jpg' file to the desired width and height.\n",
        "myimage = Image.open(\"myimage.jpg\")\n",
        "mywidth, myheight = myimage.size\n",
        "print(\"Width of original myimage: \", mywidth)\n",
        "print(\"Height of original myimage: \", myheight)"
      ],
      "execution_count": null,
      "outputs": []
    },
    {
      "cell_type": "code",
      "metadata": {
        "id": "mdr7nGJz9Y4T"
      },
      "source": [
        "background = Image.open(\"background.jpg\")\n",
        "bwidth, bheight = background.size\n",
        "print(\"Width of original background image: \", bwidth)\n",
        "print(\"Height of original background image: \", bheight)"
      ],
      "execution_count": null,
      "outputs": []
    },
    {
      "cell_type": "code",
      "metadata": {
        "id": "O2OzZF5H-Cpj"
      },
      "source": [
        "# if you want to crop one of your images before you resize\n",
        "left = \n",
        "top = \n",
        "right = \n",
        "bottom =\n",
        "cropBox = (left, top, right, bottom)\n",
        "# replace img with name of the appropriate image\n",
        "cropped_img = img.crop(cropBox)\n",
        "\n",
        "display(cropped_img)\n",
        "# you'll need to assign the original image to be the cropped image. "
      ],
      "execution_count": null,
      "outputs": []
    },
    {
      "cell_type": "markdown",
      "metadata": {
        "id": "FZ4jXJDZECsO"
      },
      "source": [
        "Run the code to resize and display **myimage** and **background**"
      ]
    },
    {
      "cell_type": "code",
      "metadata": {
        "id": "coiFzvW89MSs"
      },
      "source": [
        "# pick width and height that works for your images\n",
        "width = 400\n",
        "height = 500\n",
        "resized_myimage = myimage.resize((width, height), Image.ANTIALIAS)\n",
        "display(resized_myimage)\n",
        "resized_background = background.resize((width, height), Image.ANTIALIAS)\n",
        "display(resized_background)"
      ],
      "execution_count": null,
      "outputs": []
    },
    {
      "cell_type": "markdown",
      "metadata": {
        "id": "nEwX2IJk8A1_"
      },
      "source": [
        "If you're unhappy with the current image orientation, you can rotate the image using the code given below. Please note that calling .transpose(Image.ROTATE_90) will rotate the image *only once*. If you wish to rotate it again just run the block one more time."
      ]
    },
    {
      "cell_type": "code",
      "metadata": {
        "id": "SYbX6nPF8ABO"
      },
      "source": [
        "resized_myimage = resized_myimage.transpose(Image.ROTATE_90)\n",
        "display(resized_myimage)"
      ],
      "execution_count": null,
      "outputs": []
    },
    {
      "cell_type": "markdown",
      "metadata": {
        "id": "0z51CaogGO7k"
      },
      "source": [
        "Run the code below to convert image to a matrix."
      ]
    },
    {
      "cell_type": "code",
      "metadata": {
        "id": "h-qGTvKdE4oM"
      },
      "source": [
        "import numpy\n",
        "myimage_arr = numpy.array(resized_myimage)\n",
        "background_arr = numpy.array(resized_background)\n",
        "print ('Images are stored as matrix myimage_arr and background_arr')"
      ],
      "execution_count": null,
      "outputs": []
    },
    {
      "cell_type": "markdown",
      "metadata": {
        "id": "wa6UGduEFHx5"
      },
      "source": [
        "## Your task: Print the RGB color of pixels you think are green\n",
        "\n",
        "\n",
        "Let's make sure we all understand the coordinate system used by image pixels. The top left corner of the image is pixel (0,0), while the bottom right corner of the image corresponds to (400, 400). Pixels increase from left to right and from top to bottom. We'll link an image from Adafruit below to serve as a reference:\n",
        "\n",
        "![Pixel coordinate diagram](https://cdn-learn.adafruit.com/assets/assets/000/001/264/original/lcds___displays_coordsys.png?1396770439)\n",
        "\n",
        "In order to use the green screen, we need to know just how \"green\" our green screens' green pixels are.\n",
        "\n",
        "To do that, we'll select some representative pixels from our image and check how \"green\" they are. We can do this by making a list of (x,y) pairs which you think correspond to the green screen part of the image. \n",
        "\n",
        "For example, pixel (10, 10) will usually represesnt a green screen area. This may vary based on your image.\n",
        "\n",
        "In the code below, you need to add the pixels as tuples into the samples list as follows: \n",
        "```\n",
        "samples = [(x,y), (a,b), (c, d), (e, f), (g, h)]\n",
        "```\n",
        "\n",
        "Note that the letters here are placeholders - in your code, each letter needs to be a number representing the pixel's location.\n",
        "\n",
        "\n"
      ]
    },
    {
      "cell_type": "code",
      "metadata": {
        "id": "VcDIueg_FZRV"
      },
      "source": [
        "# add at least 5 coordinates of pixels (in the below list) that you think are green in your image \n",
        "samples = []\n",
        "# An example samples array with pixels is shown below, fill in the array above according to your image\n",
        "# samples = [(0, 0), (50,50), (10, 10), (300, 300), (350, 200) ]\n",
        "for i, j in samples:\n",
        "  print (list(myimage_arr[j, i, :]))\n",
        "  \n",
        "# try to choose samples such that outputs have middle number greater than 200 and other numbers less than 100. i.e. [60, 223, 50]"
      ],
      "execution_count": null,
      "outputs": []
    },
    {
      "cell_type": "markdown",
      "metadata": {
        "id": "5uXSbYGpGfOU"
      },
      "source": [
        "## Your Task:\n",
        "\n",
        "Now we're at the fun part - chromakeying! By the end of this part, most of the green pixels from the green screen should now be your background image you downloaded.\n",
        "\n",
        "1. The 'if statement' we wrote isn't good at detecting green pixels. Modify the condition by changing the threshold to detect green pixels in myimage. \n",
        "2. The code below changes the red channel's colour. Your task is to try adding lines to change the blue and green channel too!\n",
        "\n",
        "#### Variables Information:\n",
        "- **copy** is a copy of myimage. Write the lines to convert green pixels in *copy* to the corresponding pixels in background image.\n",
        "- The matrix form of images are stored in **background_arr** and **myimage_arr** variable. You will be using these to manipulate *copy*.\n",
        "- **red**, **green** and **blue** are variables to access the red, green, and blue channels of each image's pixels. This is the same way we accessed channels in the last lab!\n",
        "\n",
        "Play around with the code below and see how it changes your image."
      ]
    },
    {
      "cell_type": "markdown",
      "metadata": {
        "id": "8kx81lkZGYfT"
      },
      "source": [
        "Run the code to assign values to red, green and blue as an index."
      ]
    },
    {
      "cell_type": "code",
      "metadata": {
        "id": "iJzrol9fIMmn"
      },
      "source": [
        "red, green, blue = 0, 1, 2"
      ],
      "execution_count": null,
      "outputs": []
    },
    {
      "cell_type": "code",
      "metadata": {
        "id": "g--QQiUNCv7f"
      },
      "source": [
        "copy = numpy.copy(myimage_arr) #Make a copy, so we aren't changing the original image\n",
        "for j in range(width):       \n",
        "  for i in range(height):\n",
        "    # Your task: Modify the threshold in if condition to extract all the green pixels.\n",
        "    # NOTE: Your task is only to modify 1 code line below and change the numbers (threshold) for each \n",
        "    # channel until you are satisfied with the result\n",
        "    if myimage_arr[i, j, green] > 30 and myimage_arr[i, j, blue] < 120 and myimage_arr[i, j, red] > 160:\n",
        "      copy[i, j] = [0, 0, 0] # initially make the pixel black (0, 0, 0)\n",
        "      #copy[i, j, red] = background_arr[i, j, red]\n",
        "      # Your task: write the lines for green and blue pixel values from background_arr\n",
        "      \n",
        "newimg = Image.fromarray(copy)\n",
        "display(newimg)"
      ],
      "execution_count": null,
      "outputs": []
    },
    {
      "cell_type": "markdown",
      "metadata": {
        "id": "Z9luyZAdKHxa"
      },
      "source": [
        "### If you do not see your modified image revisit your code and correct the mistakes."
      ]
    },
    {
      "cell_type": "markdown",
      "metadata": {
        "id": "5eJ69LjBHiB9"
      },
      "source": [
        "1. Right click on your new image with background and download it to your desktop.\n",
        "\n"
      ]
    }
  ]
}